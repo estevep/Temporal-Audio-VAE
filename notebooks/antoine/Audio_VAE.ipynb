{
 "cells": [
  {
   "cell_type": "code",
   "execution_count": 172,
   "metadata": {},
   "outputs": [
    {
     "name": "stderr",
     "output_type": "stream",
     "text": [
      "[2024-01-17 16:02:03,519] INFO(root)\tdevice: cuda\n"
     ]
    }
   ],
   "source": [
    "import torch\n",
    "import torchvision\n",
    "import torch.nn as nn\n",
    "import torch.nn.functional as F\n",
    "import torch.distributions as distrib\n",
    "import numpy as np\n",
    "import lmdb\n",
    "import torchaudio\n",
    "import librosa\n",
    "from udls.generated import AudioExample\n",
    "import IPython.display as ipd\n",
    "import logging\n",
    "from tqdm import tqdm\n",
    "from pathlib import Path\n",
    "import os\n",
    "from typing import Callable, Optional\n",
    "from torch.utils.tensorboard import SummaryWriter\n",
    "import warnings\n",
    "import matplotlib.pyplot as plt\n",
    "import sys\n",
    "\n",
    "sys.path.insert(0, \"../../src\")\n",
    "from temporal_audio_vae.datasets import LoopDataset\n",
    "from temporal_audio_vae.transforms import Log1pMelSpec\n",
    "\n",
    "logger = logging.getLogger(__name__)\n",
    "logging.basicConfig(\n",
    "    format=\"[%(asctime)s] %(levelname)s(%(name)s)\\t%(message)s\", level=logging.INFO\n",
    ")\n",
    "\n",
    "device = \"cuda\" if torch.cuda.is_available() else \"cpu\"\n",
    "logging.info(\"device: %s\", device)"
   ]
  },
  {
   "cell_type": "code",
   "execution_count": 173,
   "metadata": {},
   "outputs": [
    {
     "ename": "FileNotFoundError",
     "evalue": "[Errno 2] No such file or directory: '../../data/loops'",
     "output_type": "error",
     "traceback": [
      "\u001b[1;31m---------------------------------------------------------------------------\u001b[0m",
      "\u001b[1;31mFileNotFoundError\u001b[0m                         Traceback (most recent call last)",
      "Cell \u001b[1;32mIn[173], line 2\u001b[0m\n\u001b[0;32m      1\u001b[0m \u001b[38;5;66;03m# get 5 random examples\u001b[39;00m\n\u001b[1;32m----> 2\u001b[0m dataset \u001b[38;5;241m=\u001b[39m \u001b[43mLoopDataset\u001b[49m\u001b[43m(\u001b[49m\u001b[43mdb_path\u001b[49m\u001b[38;5;241;43m=\u001b[39;49m\u001b[38;5;124;43m\"\u001b[39;49m\u001b[38;5;124;43m../../data/loops\u001b[39;49m\u001b[38;5;124;43m\"\u001b[39;49m\u001b[43m)\u001b[49m\n\u001b[0;32m      3\u001b[0m valid_ratio \u001b[38;5;241m=\u001b[39m \u001b[38;5;241m0.2\u001b[39m\n\u001b[0;32m      4\u001b[0m nb_valid \u001b[38;5;241m=\u001b[39m \u001b[38;5;28mint\u001b[39m(valid_ratio \u001b[38;5;241m*\u001b[39m \u001b[38;5;28mlen\u001b[39m(dataset))\n",
      "File \u001b[1;32mc:\\Users\\MrGoo\\OneDrive\\Documents\\ATIAM\\IM\\Projet\\Temporal-Audio-VAE\\notebooks\\antoine\\../../src\\temporal_audio_vae\\datasets\\__init__.py:20\u001b[0m, in \u001b[0;36mLoopDataset.__init__\u001b[1;34m(self, db_path)\u001b[0m\n\u001b[0;32m     11\u001b[0m \u001b[38;5;250m\u001b[39m\u001b[38;5;124;03m\"\"\"Audio loops dataset\u001b[39;00m\n\u001b[0;32m     12\u001b[0m \n\u001b[0;32m     13\u001b[0m \u001b[38;5;124;03mEach example is 65536 samples long and is sampled at 44100 Hz\u001b[39;00m\n\u001b[1;32m   (...)\u001b[0m\n\u001b[0;32m     16\u001b[0m \u001b[38;5;124;03m    db_path (str): Path to the directory containing `data.mdb`\u001b[39;00m\n\u001b[0;32m     17\u001b[0m \u001b[38;5;124;03m\"\"\"\u001b[39;00m\n\u001b[0;32m     18\u001b[0m \u001b[38;5;28msuper\u001b[39m()\u001b[38;5;241m.\u001b[39m\u001b[38;5;21m__init__\u001b[39m()\n\u001b[1;32m---> 20\u001b[0m \u001b[38;5;28mself\u001b[39m\u001b[38;5;241m.\u001b[39menv \u001b[38;5;241m=\u001b[39m \u001b[43mlmdb\u001b[49m\u001b[38;5;241;43m.\u001b[39;49m\u001b[43mopen\u001b[49m\u001b[43m(\u001b[49m\u001b[43mdb_path\u001b[49m\u001b[43m,\u001b[49m\u001b[43m \u001b[49m\u001b[43mlock\u001b[49m\u001b[38;5;241;43m=\u001b[39;49m\u001b[38;5;28;43;01mFalse\u001b[39;49;00m\u001b[43m)\u001b[49m\n\u001b[0;32m     21\u001b[0m \u001b[38;5;28;01mwith\u001b[39;00m \u001b[38;5;28mself\u001b[39m\u001b[38;5;241m.\u001b[39menv\u001b[38;5;241m.\u001b[39mbegin(write\u001b[38;5;241m=\u001b[39m\u001b[38;5;28;01mFalse\u001b[39;00m) \u001b[38;5;28;01mas\u001b[39;00m txn:\n\u001b[0;32m     22\u001b[0m     \u001b[38;5;28mself\u001b[39m\u001b[38;5;241m.\u001b[39mkeys \u001b[38;5;241m=\u001b[39m \u001b[38;5;28mlist\u001b[39m(txn\u001b[38;5;241m.\u001b[39mcursor()\u001b[38;5;241m.\u001b[39miternext(values\u001b[38;5;241m=\u001b[39m\u001b[38;5;28;01mFalse\u001b[39;00m))\n",
      "\u001b[1;31mFileNotFoundError\u001b[0m: [Errno 2] No such file or directory: '../../data/loops'"
     ]
    }
   ],
   "source": [
    "# get 5 random examples\n",
    "dataset = LoopDataset(db_path=\"../../data/loops\")\n",
    "valid_ratio = 0.2\n",
    "nb_valid = int(valid_ratio * len(dataset))\n",
    "nb_train = len(dataset) - nb_valid\n",
    "train_dataset, valid_dataset = torch.utils.data.dataset.random_split(\n",
    "    dataset, [nb_train, nb_valid]\n",
    ")\n",
    "\n",
    "print(nb_train, nb_valid)\n",
    "\n",
    "num_threads = 0  # != 0 crashes on windows o_o\n",
    "batch_size = 128\n",
    "\n",
    "train_loader = torch.utils.data.DataLoader(\n",
    "    dataset=train_dataset, batch_size=batch_size, num_workers=num_threads\n",
    ")\n",
    "valid_loader = torch.utils.data.DataLoader(\n",
    "    dataset=valid_dataset, batch_size=batch_size, shuffle=False, num_workers=num_threads\n",
    ")\n",
    "\n",
    "for i in np.random.randint(len(train_dataset), size=5):\n",
    "    print(f\"example #{i}\")\n",
    "    ipd.display(ipd.Audio(train_dataset[i], rate=LoopDataset.FS))"
   ]
  },
  {
   "cell_type": "code",
   "execution_count": 175,
   "metadata": {},
   "outputs": [],
   "source": [
    "def outsize(Lin, stride, pad, ker):\n",
    "    temp = Lin - (ker - 1) - 1 + 2 * pad\n",
    "    temp /= stride\n",
    "    lout = np.floor(temp) + 1\n",
    "    return lout"
   ]
  },
  {
   "cell_type": "code",
   "execution_count": 176,
   "metadata": {},
   "outputs": [
    {
     "data": {
      "text/plain": [
       "512.0"
      ]
     },
     "execution_count": 176,
     "metadata": {},
     "output_type": "execute_result"
    }
   ],
   "source": [
    "outsize(1024, 2, 3, 7)"
   ]
  },
  {
   "cell_type": "code",
   "execution_count": 177,
   "metadata": {},
   "outputs": [],
   "source": [
    "class AE(nn.Module):\n",
    "    def __init__(self, encoder, decoder, encoding_dim):\n",
    "        super(AE, self).__init__()\n",
    "        self.encoding_dims = encoding_dim\n",
    "        self.encoder = encoder\n",
    "        self.decoder = decoder\n",
    "\n",
    "    def forward(self, x):\n",
    "        encoded = self.encoder(x)\n",
    "        decoded = self.decoder(encoded)\n",
    "        return decoded"
   ]
  },
  {
   "cell_type": "code",
   "execution_count": 178,
   "metadata": {},
   "outputs": [],
   "source": [
    "class VAE(AE):\n",
    "    def __init__(self, encoder, decoder, encoding_dims, latent_dims):\n",
    "        super(VAE, self).__init__(encoder, decoder, encoding_dims)\n",
    "        self.latent_dims = latent_dims\n",
    "        self.mu = nn.Sequential(nn.Linear(self.encoding_dims, self.latent_dims))\n",
    "        self.sigma = nn.Sequential(\n",
    "            nn.Linear(self.encoding_dims, self.latent_dims), nn.Softplus()\n",
    "        )\n",
    "\n",
    "    def encode(self, x):\n",
    "        x_encoded = self.encoder(x)\n",
    "\n",
    "        mu = self.mu(x_encoded)\n",
    "        sigma = self.sigma(x_encoded)\n",
    "\n",
    "        return (mu, sigma)\n",
    "\n",
    "    def decode(self, z):\n",
    "        return self.decoder(z)\n",
    "\n",
    "    def forward(self, x):\n",
    "        # Encode the inputs\n",
    "        z_params = self.encode(x)\n",
    "        # Obtain latent samples and latent loss\n",
    "        z_tilde, kl_div = self.latent(z_params)\n",
    "        # Decode the samples\n",
    "        x_tilde = self.decode(z_tilde)\n",
    "        return x_tilde, kl_div\n",
    "\n",
    "    def latent(self, z_params):\n",
    "        normal = distrib.Normal(loc=0.0, scale=1.0)\n",
    "        mu, sigma = z_params\n",
    "        kl_div = torch.sum(1 + torch.log(sigma**2) - mu**2 - 2 * (sigma**2)) / 2\n",
    "        z = mu + sigma * normal.sample(sigma.shape).to(device)\n",
    "\n",
    "        return z, kl_div"
   ]
  },
  {
   "cell_type": "code",
   "execution_count": 179,
   "metadata": {},
   "outputs": [],
   "source": [
    "class CouchePrint(nn.Module):\n",
    "    def __init__(self):\n",
    "        super().__init__()\n",
    "\n",
    "    def forward(self, x):\n",
    "        print(x.shape)\n",
    "\n",
    "        return x"
   ]
  },
  {
   "cell_type": "code",
   "execution_count": 296,
   "metadata": {},
   "outputs": [],
   "source": [
    "def construct_encoder_decoder(n_latent=16, n_hidden=1024):\n",
    "    # Encoder network\n",
    "    encoder = nn.Sequential(\n",
    "        nn.Conv1d(512, 256, 8, 2, 3),\n",
    "        CouchePrint(),\n",
    "        nn.LeakyReLU(),\n",
    "        nn.BatchNorm1d(256),\n",
    "        nn.Conv1d(256, 128, 8, 2, 3),\n",
    "        CouchePrint(),\n",
    "        nn.LeakyReLU(),\n",
    "        nn.BatchNorm1d(128),\n",
    "        nn.Conv1d(128, 64, 8, 2, 3),\n",
    "        CouchePrint(),\n",
    "        nn.LeakyReLU(),\n",
    "        nn.BatchNorm1d(64),\n",
    "        nn.Conv1d(64, 32, 8, 2, 3),\n",
    "        CouchePrint(),\n",
    "        nn.LeakyReLU(),\n",
    "        nn.BatchNorm1d(32),\n",
    "        nn.Flatten(),\n",
    "    )\n",
    "\n",
    "    # Decoder network\n",
    "    decoder = nn.Sequential(\n",
    "        nn.Linear(n_latent, n_hidden),\n",
    "        nn.LeakyReLU(),\n",
    "        nn.Unflatten(1, torch.Size([n_latent, int(n_hidden / n_latent)])),\n",
    "        CouchePrint(),\n",
    "        nn.ConvTranspose1d(16, 32, 8, 2, 3),\n",
    "        CouchePrint(),\n",
    "        nn.LeakyReLU(),\n",
    "        nn.BatchNorm1d(64),\n",
    "        nn.ConvTranspose1d(64, 128, 8, 2, 3),\n",
    "        CouchePrint(),\n",
    "        nn.LeakyReLU(),\n",
    "        nn.BatchNorm1d(128),\n",
    "        nn.ConvTranspose1d(128, 256, 8, 2, 3),\n",
    "        CouchePrint(),\n",
    "        nn.LeakyReLU(),\n",
    "        nn.BatchNorm1d(256),\n",
    "        nn.ConvTranspose1d(256, 512, 8, 2, 3),\n",
    "        CouchePrint(),\n",
    "        nn.LeakyReLU(),\n",
    "        nn.BatchNorm1d(512),\n",
    "    )\n",
    "    return encoder, decoder"
   ]
  },
  {
   "cell_type": "code",
   "execution_count": 297,
   "metadata": {},
   "outputs": [],
   "source": [
    "encoder_test, decoder_test = construct_encoder_decoder(n_hidden=512, n_latent=16)"
   ]
  },
  {
   "cell_type": "code",
   "execution_count": 298,
   "metadata": {},
   "outputs": [],
   "source": [
    "model_test = VAE(encoder_test, decoder_test, 512, 16).to(device)"
   ]
  },
  {
   "cell_type": "code",
   "execution_count": 299,
   "metadata": {},
   "outputs": [],
   "source": [
    "im_test = torch.ones((128, 512, 256)).to(device)"
   ]
  },
  {
   "cell_type": "code",
   "execution_count": 300,
   "metadata": {},
   "outputs": [
    {
     "name": "stdout",
     "output_type": "stream",
     "text": [
      "torch.Size([128, 256, 128])\n",
      "torch.Size([128, 128, 64])\n",
      "torch.Size([128, 64, 32])\n",
      "torch.Size([128, 32, 16])\n",
      "torch.Size([128, 16, 32])\n",
      "torch.Size([128, 32, 64])\n"
     ]
    },
    {
     "ename": "RuntimeError",
     "evalue": "running_mean should contain 32 elements not 64",
     "output_type": "error",
     "traceback": [
      "\u001b[1;31m---------------------------------------------------------------------------\u001b[0m",
      "\u001b[1;31mRuntimeError\u001b[0m                              Traceback (most recent call last)",
      "Cell \u001b[1;32mIn[300], line 1\u001b[0m\n\u001b[1;32m----> 1\u001b[0m out_test, _ \u001b[38;5;241m=\u001b[39m \u001b[43mmodel_test\u001b[49m\u001b[43m(\u001b[49m\u001b[43mim_test\u001b[49m\u001b[43m)\u001b[49m\n",
      "File \u001b[1;32mc:\\Users\\MrGoo\\AppData\\Local\\Programs\\Python\\Python310\\lib\\site-packages\\torch\\nn\\modules\\module.py:1518\u001b[0m, in \u001b[0;36mModule._wrapped_call_impl\u001b[1;34m(self, *args, **kwargs)\u001b[0m\n\u001b[0;32m   1516\u001b[0m     \u001b[38;5;28;01mreturn\u001b[39;00m \u001b[38;5;28mself\u001b[39m\u001b[38;5;241m.\u001b[39m_compiled_call_impl(\u001b[38;5;241m*\u001b[39margs, \u001b[38;5;241m*\u001b[39m\u001b[38;5;241m*\u001b[39mkwargs)  \u001b[38;5;66;03m# type: ignore[misc]\u001b[39;00m\n\u001b[0;32m   1517\u001b[0m \u001b[38;5;28;01melse\u001b[39;00m:\n\u001b[1;32m-> 1518\u001b[0m     \u001b[38;5;28;01mreturn\u001b[39;00m \u001b[38;5;28mself\u001b[39m\u001b[38;5;241m.\u001b[39m_call_impl(\u001b[38;5;241m*\u001b[39margs, \u001b[38;5;241m*\u001b[39m\u001b[38;5;241m*\u001b[39mkwargs)\n",
      "File \u001b[1;32mc:\\Users\\MrGoo\\AppData\\Local\\Programs\\Python\\Python310\\lib\\site-packages\\torch\\nn\\modules\\module.py:1527\u001b[0m, in \u001b[0;36mModule._call_impl\u001b[1;34m(self, *args, **kwargs)\u001b[0m\n\u001b[0;32m   1522\u001b[0m \u001b[38;5;66;03m# If we don't have any hooks, we want to skip the rest of the logic in\u001b[39;00m\n\u001b[0;32m   1523\u001b[0m \u001b[38;5;66;03m# this function, and just call forward.\u001b[39;00m\n\u001b[0;32m   1524\u001b[0m \u001b[38;5;28;01mif\u001b[39;00m \u001b[38;5;129;01mnot\u001b[39;00m (\u001b[38;5;28mself\u001b[39m\u001b[38;5;241m.\u001b[39m_backward_hooks \u001b[38;5;129;01mor\u001b[39;00m \u001b[38;5;28mself\u001b[39m\u001b[38;5;241m.\u001b[39m_backward_pre_hooks \u001b[38;5;129;01mor\u001b[39;00m \u001b[38;5;28mself\u001b[39m\u001b[38;5;241m.\u001b[39m_forward_hooks \u001b[38;5;129;01mor\u001b[39;00m \u001b[38;5;28mself\u001b[39m\u001b[38;5;241m.\u001b[39m_forward_pre_hooks\n\u001b[0;32m   1525\u001b[0m         \u001b[38;5;129;01mor\u001b[39;00m _global_backward_pre_hooks \u001b[38;5;129;01mor\u001b[39;00m _global_backward_hooks\n\u001b[0;32m   1526\u001b[0m         \u001b[38;5;129;01mor\u001b[39;00m _global_forward_hooks \u001b[38;5;129;01mor\u001b[39;00m _global_forward_pre_hooks):\n\u001b[1;32m-> 1527\u001b[0m     \u001b[38;5;28;01mreturn\u001b[39;00m forward_call(\u001b[38;5;241m*\u001b[39margs, \u001b[38;5;241m*\u001b[39m\u001b[38;5;241m*\u001b[39mkwargs)\n\u001b[0;32m   1529\u001b[0m \u001b[38;5;28;01mtry\u001b[39;00m:\n\u001b[0;32m   1530\u001b[0m     result \u001b[38;5;241m=\u001b[39m \u001b[38;5;28;01mNone\u001b[39;00m\n",
      "Cell \u001b[1;32mIn[178], line 27\u001b[0m, in \u001b[0;36mVAE.forward\u001b[1;34m(self, x)\u001b[0m\n\u001b[0;32m     25\u001b[0m z_tilde, kl_div \u001b[38;5;241m=\u001b[39m \u001b[38;5;28mself\u001b[39m\u001b[38;5;241m.\u001b[39mlatent(z_params)\n\u001b[0;32m     26\u001b[0m \u001b[38;5;66;03m# Decode the samples\u001b[39;00m\n\u001b[1;32m---> 27\u001b[0m x_tilde \u001b[38;5;241m=\u001b[39m \u001b[38;5;28;43mself\u001b[39;49m\u001b[38;5;241;43m.\u001b[39;49m\u001b[43mdecode\u001b[49m\u001b[43m(\u001b[49m\u001b[43mz_tilde\u001b[49m\u001b[43m)\u001b[49m\n\u001b[0;32m     28\u001b[0m \u001b[38;5;28;01mreturn\u001b[39;00m x_tilde, kl_div\n",
      "Cell \u001b[1;32mIn[178], line 19\u001b[0m, in \u001b[0;36mVAE.decode\u001b[1;34m(self, z)\u001b[0m\n\u001b[0;32m     18\u001b[0m \u001b[38;5;28;01mdef\u001b[39;00m \u001b[38;5;21mdecode\u001b[39m(\u001b[38;5;28mself\u001b[39m, z):\n\u001b[1;32m---> 19\u001b[0m     \u001b[38;5;28;01mreturn\u001b[39;00m \u001b[38;5;28;43mself\u001b[39;49m\u001b[38;5;241;43m.\u001b[39;49m\u001b[43mdecoder\u001b[49m\u001b[43m(\u001b[49m\u001b[43mz\u001b[49m\u001b[43m)\u001b[49m\n",
      "File \u001b[1;32mc:\\Users\\MrGoo\\AppData\\Local\\Programs\\Python\\Python310\\lib\\site-packages\\torch\\nn\\modules\\module.py:1518\u001b[0m, in \u001b[0;36mModule._wrapped_call_impl\u001b[1;34m(self, *args, **kwargs)\u001b[0m\n\u001b[0;32m   1516\u001b[0m     \u001b[38;5;28;01mreturn\u001b[39;00m \u001b[38;5;28mself\u001b[39m\u001b[38;5;241m.\u001b[39m_compiled_call_impl(\u001b[38;5;241m*\u001b[39margs, \u001b[38;5;241m*\u001b[39m\u001b[38;5;241m*\u001b[39mkwargs)  \u001b[38;5;66;03m# type: ignore[misc]\u001b[39;00m\n\u001b[0;32m   1517\u001b[0m \u001b[38;5;28;01melse\u001b[39;00m:\n\u001b[1;32m-> 1518\u001b[0m     \u001b[38;5;28;01mreturn\u001b[39;00m \u001b[38;5;28mself\u001b[39m\u001b[38;5;241m.\u001b[39m_call_impl(\u001b[38;5;241m*\u001b[39margs, \u001b[38;5;241m*\u001b[39m\u001b[38;5;241m*\u001b[39mkwargs)\n",
      "File \u001b[1;32mc:\\Users\\MrGoo\\AppData\\Local\\Programs\\Python\\Python310\\lib\\site-packages\\torch\\nn\\modules\\module.py:1527\u001b[0m, in \u001b[0;36mModule._call_impl\u001b[1;34m(self, *args, **kwargs)\u001b[0m\n\u001b[0;32m   1522\u001b[0m \u001b[38;5;66;03m# If we don't have any hooks, we want to skip the rest of the logic in\u001b[39;00m\n\u001b[0;32m   1523\u001b[0m \u001b[38;5;66;03m# this function, and just call forward.\u001b[39;00m\n\u001b[0;32m   1524\u001b[0m \u001b[38;5;28;01mif\u001b[39;00m \u001b[38;5;129;01mnot\u001b[39;00m (\u001b[38;5;28mself\u001b[39m\u001b[38;5;241m.\u001b[39m_backward_hooks \u001b[38;5;129;01mor\u001b[39;00m \u001b[38;5;28mself\u001b[39m\u001b[38;5;241m.\u001b[39m_backward_pre_hooks \u001b[38;5;129;01mor\u001b[39;00m \u001b[38;5;28mself\u001b[39m\u001b[38;5;241m.\u001b[39m_forward_hooks \u001b[38;5;129;01mor\u001b[39;00m \u001b[38;5;28mself\u001b[39m\u001b[38;5;241m.\u001b[39m_forward_pre_hooks\n\u001b[0;32m   1525\u001b[0m         \u001b[38;5;129;01mor\u001b[39;00m _global_backward_pre_hooks \u001b[38;5;129;01mor\u001b[39;00m _global_backward_hooks\n\u001b[0;32m   1526\u001b[0m         \u001b[38;5;129;01mor\u001b[39;00m _global_forward_hooks \u001b[38;5;129;01mor\u001b[39;00m _global_forward_pre_hooks):\n\u001b[1;32m-> 1527\u001b[0m     \u001b[38;5;28;01mreturn\u001b[39;00m forward_call(\u001b[38;5;241m*\u001b[39margs, \u001b[38;5;241m*\u001b[39m\u001b[38;5;241m*\u001b[39mkwargs)\n\u001b[0;32m   1529\u001b[0m \u001b[38;5;28;01mtry\u001b[39;00m:\n\u001b[0;32m   1530\u001b[0m     result \u001b[38;5;241m=\u001b[39m \u001b[38;5;28;01mNone\u001b[39;00m\n",
      "File \u001b[1;32mc:\\Users\\MrGoo\\AppData\\Local\\Programs\\Python\\Python310\\lib\\site-packages\\torch\\nn\\modules\\container.py:215\u001b[0m, in \u001b[0;36mSequential.forward\u001b[1;34m(self, input)\u001b[0m\n\u001b[0;32m    213\u001b[0m \u001b[38;5;28;01mdef\u001b[39;00m \u001b[38;5;21mforward\u001b[39m(\u001b[38;5;28mself\u001b[39m, \u001b[38;5;28minput\u001b[39m):\n\u001b[0;32m    214\u001b[0m     \u001b[38;5;28;01mfor\u001b[39;00m module \u001b[38;5;129;01min\u001b[39;00m \u001b[38;5;28mself\u001b[39m:\n\u001b[1;32m--> 215\u001b[0m         \u001b[38;5;28minput\u001b[39m \u001b[38;5;241m=\u001b[39m \u001b[43mmodule\u001b[49m\u001b[43m(\u001b[49m\u001b[38;5;28;43minput\u001b[39;49m\u001b[43m)\u001b[49m\n\u001b[0;32m    216\u001b[0m     \u001b[38;5;28;01mreturn\u001b[39;00m \u001b[38;5;28minput\u001b[39m\n",
      "File \u001b[1;32mc:\\Users\\MrGoo\\AppData\\Local\\Programs\\Python\\Python310\\lib\\site-packages\\torch\\nn\\modules\\module.py:1518\u001b[0m, in \u001b[0;36mModule._wrapped_call_impl\u001b[1;34m(self, *args, **kwargs)\u001b[0m\n\u001b[0;32m   1516\u001b[0m     \u001b[38;5;28;01mreturn\u001b[39;00m \u001b[38;5;28mself\u001b[39m\u001b[38;5;241m.\u001b[39m_compiled_call_impl(\u001b[38;5;241m*\u001b[39margs, \u001b[38;5;241m*\u001b[39m\u001b[38;5;241m*\u001b[39mkwargs)  \u001b[38;5;66;03m# type: ignore[misc]\u001b[39;00m\n\u001b[0;32m   1517\u001b[0m \u001b[38;5;28;01melse\u001b[39;00m:\n\u001b[1;32m-> 1518\u001b[0m     \u001b[38;5;28;01mreturn\u001b[39;00m \u001b[38;5;28mself\u001b[39m\u001b[38;5;241m.\u001b[39m_call_impl(\u001b[38;5;241m*\u001b[39margs, \u001b[38;5;241m*\u001b[39m\u001b[38;5;241m*\u001b[39mkwargs)\n",
      "File \u001b[1;32mc:\\Users\\MrGoo\\AppData\\Local\\Programs\\Python\\Python310\\lib\\site-packages\\torch\\nn\\modules\\module.py:1527\u001b[0m, in \u001b[0;36mModule._call_impl\u001b[1;34m(self, *args, **kwargs)\u001b[0m\n\u001b[0;32m   1522\u001b[0m \u001b[38;5;66;03m# If we don't have any hooks, we want to skip the rest of the logic in\u001b[39;00m\n\u001b[0;32m   1523\u001b[0m \u001b[38;5;66;03m# this function, and just call forward.\u001b[39;00m\n\u001b[0;32m   1524\u001b[0m \u001b[38;5;28;01mif\u001b[39;00m \u001b[38;5;129;01mnot\u001b[39;00m (\u001b[38;5;28mself\u001b[39m\u001b[38;5;241m.\u001b[39m_backward_hooks \u001b[38;5;129;01mor\u001b[39;00m \u001b[38;5;28mself\u001b[39m\u001b[38;5;241m.\u001b[39m_backward_pre_hooks \u001b[38;5;129;01mor\u001b[39;00m \u001b[38;5;28mself\u001b[39m\u001b[38;5;241m.\u001b[39m_forward_hooks \u001b[38;5;129;01mor\u001b[39;00m \u001b[38;5;28mself\u001b[39m\u001b[38;5;241m.\u001b[39m_forward_pre_hooks\n\u001b[0;32m   1525\u001b[0m         \u001b[38;5;129;01mor\u001b[39;00m _global_backward_pre_hooks \u001b[38;5;129;01mor\u001b[39;00m _global_backward_hooks\n\u001b[0;32m   1526\u001b[0m         \u001b[38;5;129;01mor\u001b[39;00m _global_forward_hooks \u001b[38;5;129;01mor\u001b[39;00m _global_forward_pre_hooks):\n\u001b[1;32m-> 1527\u001b[0m     \u001b[38;5;28;01mreturn\u001b[39;00m forward_call(\u001b[38;5;241m*\u001b[39margs, \u001b[38;5;241m*\u001b[39m\u001b[38;5;241m*\u001b[39mkwargs)\n\u001b[0;32m   1529\u001b[0m \u001b[38;5;28;01mtry\u001b[39;00m:\n\u001b[0;32m   1530\u001b[0m     result \u001b[38;5;241m=\u001b[39m \u001b[38;5;28;01mNone\u001b[39;00m\n",
      "File \u001b[1;32mc:\\Users\\MrGoo\\AppData\\Local\\Programs\\Python\\Python310\\lib\\site-packages\\torch\\nn\\modules\\batchnorm.py:171\u001b[0m, in \u001b[0;36m_BatchNorm.forward\u001b[1;34m(self, input)\u001b[0m\n\u001b[0;32m    164\u001b[0m     bn_training \u001b[38;5;241m=\u001b[39m (\u001b[38;5;28mself\u001b[39m\u001b[38;5;241m.\u001b[39mrunning_mean \u001b[38;5;129;01mis\u001b[39;00m \u001b[38;5;28;01mNone\u001b[39;00m) \u001b[38;5;129;01mand\u001b[39;00m (\u001b[38;5;28mself\u001b[39m\u001b[38;5;241m.\u001b[39mrunning_var \u001b[38;5;129;01mis\u001b[39;00m \u001b[38;5;28;01mNone\u001b[39;00m)\n\u001b[0;32m    166\u001b[0m \u001b[38;5;250m\u001b[39m\u001b[38;5;124mr\u001b[39m\u001b[38;5;124;03m\"\"\"\u001b[39;00m\n\u001b[0;32m    167\u001b[0m \u001b[38;5;124;03mBuffers are only updated if they are to be tracked and we are in training mode. Thus they only need to be\u001b[39;00m\n\u001b[0;32m    168\u001b[0m \u001b[38;5;124;03mpassed when the update should occur (i.e. in training mode when they are tracked), or when buffer stats are\u001b[39;00m\n\u001b[0;32m    169\u001b[0m \u001b[38;5;124;03mused for normalization (i.e. in eval mode when buffers are not None).\u001b[39;00m\n\u001b[0;32m    170\u001b[0m \u001b[38;5;124;03m\"\"\"\u001b[39;00m\n\u001b[1;32m--> 171\u001b[0m \u001b[38;5;28;01mreturn\u001b[39;00m \u001b[43mF\u001b[49m\u001b[38;5;241;43m.\u001b[39;49m\u001b[43mbatch_norm\u001b[49m\u001b[43m(\u001b[49m\n\u001b[0;32m    172\u001b[0m \u001b[43m    \u001b[49m\u001b[38;5;28;43minput\u001b[39;49m\u001b[43m,\u001b[49m\n\u001b[0;32m    173\u001b[0m \u001b[43m    \u001b[49m\u001b[38;5;66;43;03m# If buffers are not to be tracked, ensure that they won't be updated\u001b[39;49;00m\n\u001b[0;32m    174\u001b[0m \u001b[43m    \u001b[49m\u001b[38;5;28;43mself\u001b[39;49m\u001b[38;5;241;43m.\u001b[39;49m\u001b[43mrunning_mean\u001b[49m\n\u001b[0;32m    175\u001b[0m \u001b[43m    \u001b[49m\u001b[38;5;28;43;01mif\u001b[39;49;00m\u001b[43m \u001b[49m\u001b[38;5;129;43;01mnot\u001b[39;49;00m\u001b[43m \u001b[49m\u001b[38;5;28;43mself\u001b[39;49m\u001b[38;5;241;43m.\u001b[39;49m\u001b[43mtraining\u001b[49m\u001b[43m \u001b[49m\u001b[38;5;129;43;01mor\u001b[39;49;00m\u001b[43m \u001b[49m\u001b[38;5;28;43mself\u001b[39;49m\u001b[38;5;241;43m.\u001b[39;49m\u001b[43mtrack_running_stats\u001b[49m\n\u001b[0;32m    176\u001b[0m \u001b[43m    \u001b[49m\u001b[38;5;28;43;01melse\u001b[39;49;00m\u001b[43m \u001b[49m\u001b[38;5;28;43;01mNone\u001b[39;49;00m\u001b[43m,\u001b[49m\n\u001b[0;32m    177\u001b[0m \u001b[43m    \u001b[49m\u001b[38;5;28;43mself\u001b[39;49m\u001b[38;5;241;43m.\u001b[39;49m\u001b[43mrunning_var\u001b[49m\u001b[43m \u001b[49m\u001b[38;5;28;43;01mif\u001b[39;49;00m\u001b[43m \u001b[49m\u001b[38;5;129;43;01mnot\u001b[39;49;00m\u001b[43m \u001b[49m\u001b[38;5;28;43mself\u001b[39;49m\u001b[38;5;241;43m.\u001b[39;49m\u001b[43mtraining\u001b[49m\u001b[43m \u001b[49m\u001b[38;5;129;43;01mor\u001b[39;49;00m\u001b[43m \u001b[49m\u001b[38;5;28;43mself\u001b[39;49m\u001b[38;5;241;43m.\u001b[39;49m\u001b[43mtrack_running_stats\u001b[49m\u001b[43m \u001b[49m\u001b[38;5;28;43;01melse\u001b[39;49;00m\u001b[43m \u001b[49m\u001b[38;5;28;43;01mNone\u001b[39;49;00m\u001b[43m,\u001b[49m\n\u001b[0;32m    178\u001b[0m \u001b[43m    \u001b[49m\u001b[38;5;28;43mself\u001b[39;49m\u001b[38;5;241;43m.\u001b[39;49m\u001b[43mweight\u001b[49m\u001b[43m,\u001b[49m\n\u001b[0;32m    179\u001b[0m \u001b[43m    \u001b[49m\u001b[38;5;28;43mself\u001b[39;49m\u001b[38;5;241;43m.\u001b[39;49m\u001b[43mbias\u001b[49m\u001b[43m,\u001b[49m\n\u001b[0;32m    180\u001b[0m \u001b[43m    \u001b[49m\u001b[43mbn_training\u001b[49m\u001b[43m,\u001b[49m\n\u001b[0;32m    181\u001b[0m \u001b[43m    \u001b[49m\u001b[43mexponential_average_factor\u001b[49m\u001b[43m,\u001b[49m\n\u001b[0;32m    182\u001b[0m \u001b[43m    \u001b[49m\u001b[38;5;28;43mself\u001b[39;49m\u001b[38;5;241;43m.\u001b[39;49m\u001b[43meps\u001b[49m\u001b[43m,\u001b[49m\n\u001b[0;32m    183\u001b[0m \u001b[43m\u001b[49m\u001b[43m)\u001b[49m\n",
      "File \u001b[1;32mc:\\Users\\MrGoo\\AppData\\Local\\Programs\\Python\\Python310\\lib\\site-packages\\torch\\nn\\functional.py:2478\u001b[0m, in \u001b[0;36mbatch_norm\u001b[1;34m(input, running_mean, running_var, weight, bias, training, momentum, eps)\u001b[0m\n\u001b[0;32m   2475\u001b[0m \u001b[38;5;28;01mif\u001b[39;00m training:\n\u001b[0;32m   2476\u001b[0m     _verify_batch_size(\u001b[38;5;28minput\u001b[39m\u001b[38;5;241m.\u001b[39msize())\n\u001b[1;32m-> 2478\u001b[0m \u001b[38;5;28;01mreturn\u001b[39;00m \u001b[43mtorch\u001b[49m\u001b[38;5;241;43m.\u001b[39;49m\u001b[43mbatch_norm\u001b[49m\u001b[43m(\u001b[49m\n\u001b[0;32m   2479\u001b[0m \u001b[43m    \u001b[49m\u001b[38;5;28;43minput\u001b[39;49m\u001b[43m,\u001b[49m\u001b[43m \u001b[49m\u001b[43mweight\u001b[49m\u001b[43m,\u001b[49m\u001b[43m \u001b[49m\u001b[43mbias\u001b[49m\u001b[43m,\u001b[49m\u001b[43m \u001b[49m\u001b[43mrunning_mean\u001b[49m\u001b[43m,\u001b[49m\u001b[43m \u001b[49m\u001b[43mrunning_var\u001b[49m\u001b[43m,\u001b[49m\u001b[43m \u001b[49m\u001b[43mtraining\u001b[49m\u001b[43m,\u001b[49m\u001b[43m \u001b[49m\u001b[43mmomentum\u001b[49m\u001b[43m,\u001b[49m\u001b[43m \u001b[49m\u001b[43meps\u001b[49m\u001b[43m,\u001b[49m\u001b[43m \u001b[49m\u001b[43mtorch\u001b[49m\u001b[38;5;241;43m.\u001b[39;49m\u001b[43mbackends\u001b[49m\u001b[38;5;241;43m.\u001b[39;49m\u001b[43mcudnn\u001b[49m\u001b[38;5;241;43m.\u001b[39;49m\u001b[43menabled\u001b[49m\n\u001b[0;32m   2480\u001b[0m \u001b[43m\u001b[49m\u001b[43m)\u001b[49m\n",
      "\u001b[1;31mRuntimeError\u001b[0m: running_mean should contain 32 elements not 64"
     ]
    }
   ],
   "source": [
    "out_test, _ = model_test(im_test)"
   ]
  },
  {
   "cell_type": "code",
   "execution_count": 290,
   "metadata": {},
   "outputs": [
    {
     "data": {
      "text/plain": [
       "torch.Size([128, 128, 512])"
      ]
     },
     "execution_count": 290,
     "metadata": {},
     "output_type": "execute_result"
    }
   ],
   "source": [
    "out_test.shape"
   ]
  },
  {
   "cell_type": "code",
   "execution_count": 247,
   "metadata": {},
   "outputs": [
    {
     "data": {
      "text/plain": [
       "<matplotlib.image.AxesImage at 0x213c74670d0>"
      ]
     },
     "execution_count": 247,
     "metadata": {},
     "output_type": "execute_result"
    },
    {
     "data": {
      "image/png": "[encoded data removed]",
      "text/plain": [
       "<Figure size 640x480 with 1 Axes>"
      ]
     },
     "metadata": {},
     "output_type": "display_data"
    }
   ],
   "source": [
    "plt.imshow(out_test[0].detach().cpu())"
   ]
  },
  {
   "cell_type": "code",
   "execution_count": 248,
   "metadata": {},
   "outputs": [],
   "source": [
    "def beta_warmup(epoch, interval, epoch_interval):\n",
    "    if epoch < epoch_interval[0]:\n",
    "        return interval[0]\n",
    "    elif epoch > epoch_interval[1]:\n",
    "        return interval[1]\n",
    "    return (\n",
    "        (epoch - epoch_interval[0])\n",
    "        * (interval[1] - interval[0])\n",
    "        / (epoch_interval[1] - epoch_interval[0])\n",
    "    )"
   ]
  },
  {
   "cell_type": "code",
   "execution_count": 259,
   "metadata": {},
   "outputs": [
    {
     "name": "stdout",
     "output_type": "stream",
     "text": [
      "n_mels 128\n",
      "n_frames 1024\n"
     ]
    }
   ],
   "source": [
    "n_epochs = 50\n",
    "n_latent = 16\n",
    "n_hidden = 1024\n",
    "n_mels = 512\n",
    "beta_interval = (0, 1)  # min, max\n",
    "beta_epoch_interval = (100, 400)  # start, end\n",
    "generate_every_nth_epoch = 10\n",
    "evaluate_every_nth_epoch = 10\n",
    "n_sounds_generated_from_dataset = 4\n",
    "n_sounds_generated_from_random = 8\n",
    "\n",
    "transform = Log1pMelSpec(\n",
    "    sample_rate=LoopDataset.FS,\n",
    "    n_mels=n_mels,\n",
    "    n_fft=1024,\n",
    "    griffin_lim_iter=64,\n",
    "    hop_length=256,\n",
    "    win_length = 512\n",
    ").to(device)\n",
    "\n",
    "n_frames = transform.get_n_frames(LoopDataset.LEN_SAMPLES) - 1\n",
    "\n",
    "print(\"n_mels\", n_mels)\n",
    "print(\"n_frames\", n_frames)\n",
    "\n",
    "# Construct encoder and decoder\n",
    "encoder, decoder = construct_encoder_decoder(n_hidden=n_hidden, n_latent=n_latent)\n",
    "# Build the VAE model\n",
    "model = VAE(encoder, decoder, n_hidden, n_latent).to(device)\n",
    "optimizer = torch.optim.Adam(model.parameters(), lr=1e-3)\n",
    "recons_criterion = torch.nn.MSELoss(reduction=\"sum\")"
   ]
  },
  {
   "cell_type": "code",
   "execution_count": 260,
   "metadata": {},
   "outputs": [
    {
     "name": "stderr",
     "output_type": "stream",
     "text": [
      "[2024-01-17 17:47:36,918] INFO(__main__)\ttraining audiovae_model_sym.pt\n",
      "[2024-01-17 17:47:36,919] INFO(__main__)\tn_epochs=50\n"
     ]
    }
   ],
   "source": [
    "filename = \"audiovae_model_sym.pt\"\n",
    "logger.info(\"training %s\", filename)\n",
    "logger.info(\"n_epochs=%d\", n_epochs)"
   ]
  },
  {
   "cell_type": "code",
   "execution_count": 261,
   "metadata": {},
   "outputs": [],
   "source": [
    "class func2module(nn.Module):\n",
    "    def __init__(self, f):\n",
    "        super(func2module, self).__init__()\n",
    "        self.f = f\n",
    "\n",
    "    def forward(self, x):\n",
    "        return self.f(x)"
   ]
  },
  {
   "cell_type": "code",
   "execution_count": 262,
   "metadata": {},
   "outputs": [
    {
     "name": "stdout",
     "output_type": "stream",
     "text": [
      "for train: minval=0.00, maxval=5.38\n",
      "for valid: minval=0.00, maxval=5.90\n"
     ]
    }
   ],
   "source": [
    "def find_normalizer(dataloader, name):\n",
    "    if not os.path.isfile(\"min_\" + name):\n",
    "        minval, maxval = float(\"inf\"), float(\"-inf\")\n",
    "        print(f\"Finding {name} normalizer\")\n",
    "        for x in tqdm(dataloader):\n",
    "            mag, _ = transform(x)\n",
    "            mag = mag[:, :, : mag.shape[2] - 1]\n",
    "            minval = min(minval, mag.min())\n",
    "            maxval = max(maxval, mag.max())\n",
    "        torch.save(minval, \"min_\" + name)\n",
    "        torch.save(maxval, \"max_\" + name)\n",
    "    else:\n",
    "        minval = torch.load(\"min_\" + name)\n",
    "        maxval = torch.load(\"max_\" + name)\n",
    "\n",
    "    print(f\"for {name}: {minval=:.2f}, {maxval=:.2f}\")\n",
    "    norm = func2module(lambda x: (x - minval) / (maxval - minval)).to(device)\n",
    "    # denorm = func2module(lambda x: x * (maxval - minval) + minval).to(device)\n",
    "\n",
    "    return norm\n",
    "\n",
    "train_norm = find_normalizer(train_loader, \"train\").to(device)\n",
    "valid_norm = find_normalizer(valid_loader, \"valid\").to(device)"
   ]
  },
  {
   "cell_type": "code",
   "execution_count": 264,
   "metadata": {},
   "outputs": [
    {
     "name": "stderr",
     "output_type": "stream",
     "text": [
      "[2024-01-17 17:57:18,929] INFO(__main__)\ttraining\n"
     ]
    },
    {
     "name": "stdout",
     "output_type": "stream",
     "text": [
      "warning: audio amplitude out of range, auto clipped.\n",
      "Epoch = 1\n"
     ]
    },
    {
     "name": "stderr",
     "output_type": "stream",
     "text": [
      "Train: 72it [00:04, 14.85it/s]\n",
      "[2024-01-17 17:57:23,846] INFO(__main__)\tevaluation\n",
      "[2024-01-17 17:57:23,851] INFO(__main__)\ttraining\n"
     ]
    },
    {
     "name": "stdout",
     "output_type": "stream",
     "text": [
      "Epoch = 2\n"
     ]
    },
    {
     "name": "stderr",
     "output_type": "stream",
     "text": [
      "Train: 72it [00:04, 16.14it/s]\n",
      "[2024-01-17 17:57:28,326] INFO(__main__)\tevaluation\n",
      "[2024-01-17 17:57:28,331] INFO(__main__)\ttraining\n"
     ]
    },
    {
     "name": "stdout",
     "output_type": "stream",
     "text": [
      "Epoch = 3\n"
     ]
    },
    {
     "name": "stderr",
     "output_type": "stream",
     "text": [
      "Train: 72it [00:04, 15.91it/s]\n",
      "[2024-01-17 17:57:32,863] INFO(__main__)\tevaluation\n",
      "[2024-01-17 17:57:32,867] INFO(__main__)\ttraining\n"
     ]
    },
    {
     "name": "stdout",
     "output_type": "stream",
     "text": [
      "Epoch = 4\n"
     ]
    },
    {
     "name": "stderr",
     "output_type": "stream",
     "text": [
      "Train: 72it [00:04, 16.43it/s]\n",
      "[2024-01-17 17:57:37,257] INFO(__main__)\tevaluation\n",
      "[2024-01-17 17:57:37,262] INFO(__main__)\ttraining\n"
     ]
    },
    {
     "name": "stdout",
     "output_type": "stream",
     "text": [
      "Epoch = 5\n"
     ]
    },
    {
     "name": "stderr",
     "output_type": "stream",
     "text": [
      "Train: 72it [00:04, 16.12it/s]\n",
      "[2024-01-17 17:57:41,739] INFO(__main__)\tevaluation\n",
      "[2024-01-17 17:57:41,743] INFO(__main__)\ttraining\n"
     ]
    },
    {
     "name": "stdout",
     "output_type": "stream",
     "text": [
      "Epoch = 6\n"
     ]
    },
    {
     "name": "stderr",
     "output_type": "stream",
     "text": [
      "Train: 72it [00:04, 15.98it/s]\n",
      "[2024-01-17 17:57:46,257] INFO(__main__)\tevaluation\n",
      "[2024-01-17 17:57:46,262] INFO(__main__)\ttraining\n"
     ]
    },
    {
     "name": "stdout",
     "output_type": "stream",
     "text": [
      "Epoch = 7\n"
     ]
    },
    {
     "name": "stderr",
     "output_type": "stream",
     "text": [
      "Train: 72it [00:05, 13.29it/s]\n",
      "[2024-01-17 17:57:51,698] INFO(__main__)\tevaluation\n",
      "[2024-01-17 17:57:51,704] INFO(__main__)\ttraining\n"
     ]
    },
    {
     "name": "stdout",
     "output_type": "stream",
     "text": [
      "Epoch = 8\n"
     ]
    },
    {
     "name": "stderr",
     "output_type": "stream",
     "text": [
      "Train: 72it [00:08,  8.94it/s]\n",
      "[2024-01-17 17:57:59,781] INFO(__main__)\tevaluation\n",
      "[2024-01-17 17:57:59,786] INFO(__main__)\ttraining\n"
     ]
    },
    {
     "name": "stdout",
     "output_type": "stream",
     "text": [
      "Epoch = 9\n"
     ]
    },
    {
     "name": "stderr",
     "output_type": "stream",
     "text": [
      "Train: 72it [00:06, 10.83it/s]\n",
      "[2024-01-17 17:58:06,445] INFO(__main__)\tevaluation\n",
      "[2024-01-17 17:58:06,451] INFO(__main__)\ttraining\n"
     ]
    },
    {
     "name": "stdout",
     "output_type": "stream",
     "text": [
      "Epoch = 10\n"
     ]
    },
    {
     "name": "stderr",
     "output_type": "stream",
     "text": [
      "Train: 72it [00:05, 14.06it/s]\n",
      "[2024-01-17 17:58:11,586] INFO(__main__)\tevaluation\n",
      "Eval: 18it [00:01, 13.67it/s]\n",
      "[2024-01-17 17:58:12,917] INFO(__main__)\tgenerating from dataset\n",
      "[2024-01-17 17:58:13,456] INFO(__main__)\tgenerating random from latent space\n",
      "[2024-01-17 17:58:14,144] INFO(__main__)\texploring latent space\n",
      "[2024-01-17 17:58:20,328] INFO(__main__)\ttraining\n"
     ]
    },
    {
     "name": "stdout",
     "output_type": "stream",
     "text": [
      "Epoch = 11\n"
     ]
    },
    {
     "name": "stderr",
     "output_type": "stream",
     "text": [
      "Train: 72it [00:05, 13.47it/s]\n",
      "[2024-01-17 17:58:25,713] INFO(__main__)\tevaluation\n",
      "[2024-01-17 17:58:25,718] INFO(__main__)\ttraining\n"
     ]
    },
    {
     "name": "stdout",
     "output_type": "stream",
     "text": [
      "Epoch = 12\n"
     ]
    },
    {
     "name": "stderr",
     "output_type": "stream",
     "text": [
      "Train: 72it [00:05, 13.51it/s]\n",
      "[2024-01-17 17:58:31,056] INFO(__main__)\tevaluation\n",
      "[2024-01-17 17:58:31,062] INFO(__main__)\ttraining\n"
     ]
    },
    {
     "name": "stdout",
     "output_type": "stream",
     "text": [
      "Epoch = 13\n"
     ]
    },
    {
     "name": "stderr",
     "output_type": "stream",
     "text": [
      "Train: 72it [00:05, 13.30it/s]\n",
      "[2024-01-17 17:58:36,483] INFO(__main__)\tevaluation\n",
      "[2024-01-17 17:58:36,489] INFO(__main__)\ttraining\n"
     ]
    },
    {
     "name": "stdout",
     "output_type": "stream",
     "text": [
      "Epoch = 14\n"
     ]
    },
    {
     "name": "stderr",
     "output_type": "stream",
     "text": [
      "Train: 72it [00:05, 14.16it/s]\n",
      "[2024-01-17 17:58:41,582] INFO(__main__)\tevaluation\n",
      "[2024-01-17 17:58:41,589] INFO(__main__)\ttraining\n"
     ]
    },
    {
     "name": "stdout",
     "output_type": "stream",
     "text": [
      "Epoch = 15\n"
     ]
    },
    {
     "name": "stderr",
     "output_type": "stream",
     "text": [
      "Train: 72it [00:05, 13.77it/s]\n",
      "[2024-01-17 17:58:46,830] INFO(__main__)\tevaluation\n",
      "[2024-01-17 17:58:46,834] INFO(__main__)\ttraining\n"
     ]
    },
    {
     "name": "stdout",
     "output_type": "stream",
     "text": [
      "Epoch = 16\n"
     ]
    },
    {
     "name": "stderr",
     "output_type": "stream",
     "text": [
      "Train: 72it [00:04, 14.89it/s]\n",
      "[2024-01-17 17:58:51,679] INFO(__main__)\tevaluation\n",
      "[2024-01-17 17:58:51,685] INFO(__main__)\ttraining\n"
     ]
    },
    {
     "name": "stdout",
     "output_type": "stream",
     "text": [
      "Epoch = 17\n"
     ]
    },
    {
     "name": "stderr",
     "output_type": "stream",
     "text": [
      "Train: 72it [00:04, 14.85it/s]\n",
      "[2024-01-17 17:58:56,542] INFO(__main__)\tevaluation\n",
      "[2024-01-17 17:58:56,548] INFO(__main__)\ttraining\n"
     ]
    },
    {
     "name": "stdout",
     "output_type": "stream",
     "text": [
      "Epoch = 18\n"
     ]
    },
    {
     "name": "stderr",
     "output_type": "stream",
     "text": [
      "Train: 72it [00:05, 14.18it/s]\n",
      "[2024-01-17 17:59:01,637] INFO(__main__)\tevaluation\n",
      "[2024-01-17 17:59:01,644] INFO(__main__)\ttraining\n"
     ]
    },
    {
     "name": "stdout",
     "output_type": "stream",
     "text": [
      "Epoch = 19\n"
     ]
    },
    {
     "name": "stderr",
     "output_type": "stream",
     "text": [
      "Train: 72it [00:05, 12.46it/s]\n",
      "[2024-01-17 17:59:07,435] INFO(__main__)\tevaluation\n",
      "[2024-01-17 17:59:07,441] INFO(__main__)\ttraining\n"
     ]
    },
    {
     "name": "stdout",
     "output_type": "stream",
     "text": [
      "Epoch = 20\n"
     ]
    },
    {
     "name": "stderr",
     "output_type": "stream",
     "text": [
      "Train: 72it [00:05, 13.32it/s]\n",
      "[2024-01-17 17:59:12,858] INFO(__main__)\tevaluation\n",
      "Eval: 18it [00:01, 15.11it/s]\n",
      "[2024-01-17 17:59:14,064] INFO(__main__)\tgenerating from dataset\n",
      "[2024-01-17 17:59:14,525] INFO(__main__)\tgenerating random from latent space\n",
      "[2024-01-17 17:59:15,215] INFO(__main__)\texploring latent space\n",
      "[2024-01-17 17:59:21,219] INFO(__main__)\ttraining\n"
     ]
    },
    {
     "name": "stdout",
     "output_type": "stream",
     "text": [
      "Epoch = 21\n"
     ]
    },
    {
     "name": "stderr",
     "output_type": "stream",
     "text": [
      "Train: 72it [00:05, 13.07it/s]\n",
      "[2024-01-17 17:59:26,748] INFO(__main__)\tevaluation\n",
      "[2024-01-17 17:59:26,754] INFO(__main__)\ttraining\n"
     ]
    },
    {
     "name": "stdout",
     "output_type": "stream",
     "text": [
      "Epoch = 22\n"
     ]
    },
    {
     "name": "stderr",
     "output_type": "stream",
     "text": [
      "Train: 72it [00:05, 14.24it/s]\n",
      "[2024-01-17 17:59:31,820] INFO(__main__)\tevaluation\n",
      "[2024-01-17 17:59:31,826] INFO(__main__)\ttraining\n"
     ]
    },
    {
     "name": "stdout",
     "output_type": "stream",
     "text": [
      "Epoch = 23\n"
     ]
    },
    {
     "name": "stderr",
     "output_type": "stream",
     "text": [
      "Train: 72it [00:04, 14.40it/s]\n",
      "[2024-01-17 17:59:36,834] INFO(__main__)\tevaluation\n",
      "[2024-01-17 17:59:36,838] INFO(__main__)\ttraining\n"
     ]
    },
    {
     "name": "stdout",
     "output_type": "stream",
     "text": [
      "Epoch = 24\n"
     ]
    },
    {
     "name": "stderr",
     "output_type": "stream",
     "text": [
      "Train: 72it [00:04, 14.59it/s]\n",
      "[2024-01-17 17:59:41,785] INFO(__main__)\tevaluation\n",
      "[2024-01-17 17:59:41,792] INFO(__main__)\ttraining\n"
     ]
    },
    {
     "name": "stdout",
     "output_type": "stream",
     "text": [
      "Epoch = 25\n"
     ]
    },
    {
     "name": "stderr",
     "output_type": "stream",
     "text": [
      "Train: 72it [00:04, 14.51it/s]\n",
      "[2024-01-17 17:59:46,765] INFO(__main__)\tevaluation\n",
      "[2024-01-17 17:59:46,770] INFO(__main__)\ttraining\n"
     ]
    },
    {
     "name": "stdout",
     "output_type": "stream",
     "text": [
      "Epoch = 26\n"
     ]
    },
    {
     "name": "stderr",
     "output_type": "stream",
     "text": [
      "Train: 72it [00:04, 14.50it/s]\n",
      "[2024-01-17 17:59:51,744] INFO(__main__)\tevaluation\n",
      "[2024-01-17 17:59:51,752] INFO(__main__)\ttraining\n"
     ]
    },
    {
     "name": "stdout",
     "output_type": "stream",
     "text": [
      "Epoch = 27\n"
     ]
    },
    {
     "name": "stderr",
     "output_type": "stream",
     "text": [
      "Train: 72it [00:04, 14.52it/s]\n",
      "[2024-01-17 17:59:56,721] INFO(__main__)\tevaluation\n",
      "[2024-01-17 17:59:56,725] INFO(__main__)\ttraining\n"
     ]
    },
    {
     "name": "stdout",
     "output_type": "stream",
     "text": [
      "Epoch = 28\n"
     ]
    },
    {
     "name": "stderr",
     "output_type": "stream",
     "text": [
      "Train: 72it [00:05, 14.36it/s]\n",
      "[2024-01-17 18:00:01,744] INFO(__main__)\tevaluation\n",
      "[2024-01-17 18:00:01,751] INFO(__main__)\ttraining\n"
     ]
    },
    {
     "name": "stdout",
     "output_type": "stream",
     "text": [
      "Epoch = 29\n"
     ]
    },
    {
     "name": "stderr",
     "output_type": "stream",
     "text": [
      "Train: 72it [00:05, 13.93it/s]\n",
      "[2024-01-17 18:00:06,937] INFO(__main__)\tevaluation\n",
      "[2024-01-17 18:00:06,944] INFO(__main__)\ttraining\n"
     ]
    },
    {
     "name": "stdout",
     "output_type": "stream",
     "text": [
      "Epoch = 30\n"
     ]
    },
    {
     "name": "stderr",
     "output_type": "stream",
     "text": [
      "Train: 72it [00:05, 13.11it/s]\n",
      "[2024-01-17 18:00:12,450] INFO(__main__)\tevaluation\n",
      "Eval: 18it [00:01, 14.56it/s]\n",
      "[2024-01-17 18:00:13,702] INFO(__main__)\tgenerating from dataset\n",
      "[2024-01-17 18:00:14,155] INFO(__main__)\tgenerating random from latent space\n",
      "[2024-01-17 18:00:14,832] INFO(__main__)\texploring latent space\n",
      "[2024-01-17 18:00:20,579] INFO(__main__)\ttraining\n"
     ]
    },
    {
     "name": "stdout",
     "output_type": "stream",
     "text": [
      "Epoch = 31\n"
     ]
    },
    {
     "name": "stderr",
     "output_type": "stream",
     "text": [
      "Train: 72it [00:04, 14.54it/s]\n",
      "[2024-01-17 18:00:25,572] INFO(__main__)\tevaluation\n",
      "[2024-01-17 18:00:25,577] INFO(__main__)\ttraining\n"
     ]
    },
    {
     "name": "stdout",
     "output_type": "stream",
     "text": [
      "Epoch = 32\n"
     ]
    },
    {
     "name": "stderr",
     "output_type": "stream",
     "text": [
      "Train: 72it [00:05, 13.97it/s]\n",
      "[2024-01-17 18:00:30,743] INFO(__main__)\tevaluation\n",
      "[2024-01-17 18:00:30,751] INFO(__main__)\ttraining\n"
     ]
    },
    {
     "name": "stdout",
     "output_type": "stream",
     "text": [
      "Epoch = 33\n"
     ]
    },
    {
     "name": "stderr",
     "output_type": "stream",
     "text": [
      "Train: 72it [00:04, 16.62it/s]\n",
      "[2024-01-17 18:00:35,096] INFO(__main__)\tevaluation\n",
      "[2024-01-17 18:00:35,100] INFO(__main__)\ttraining\n"
     ]
    },
    {
     "name": "stdout",
     "output_type": "stream",
     "text": [
      "Epoch = 34\n"
     ]
    },
    {
     "name": "stderr",
     "output_type": "stream",
     "text": [
      "Train: 72it [00:04, 17.39it/s]\n",
      "[2024-01-17 18:00:39,250] INFO(__main__)\tevaluation\n",
      "[2024-01-17 18:00:39,255] INFO(__main__)\ttraining\n"
     ]
    },
    {
     "name": "stdout",
     "output_type": "stream",
     "text": [
      "Epoch = 35\n"
     ]
    },
    {
     "name": "stderr",
     "output_type": "stream",
     "text": [
      "Train: 72it [00:04, 16.78it/s]\n",
      "[2024-01-17 18:00:43,558] INFO(__main__)\tevaluation\n",
      "[2024-01-17 18:00:43,562] INFO(__main__)\ttraining\n"
     ]
    },
    {
     "name": "stdout",
     "output_type": "stream",
     "text": [
      "Epoch = 36\n"
     ]
    },
    {
     "name": "stderr",
     "output_type": "stream",
     "text": [
      "Train: 72it [00:05, 14.20it/s]\n",
      "[2024-01-17 18:00:48,642] INFO(__main__)\tevaluation\n",
      "[2024-01-17 18:00:48,646] INFO(__main__)\ttraining\n"
     ]
    },
    {
     "name": "stdout",
     "output_type": "stream",
     "text": [
      "Epoch = 37\n"
     ]
    },
    {
     "name": "stderr",
     "output_type": "stream",
     "text": [
      "Train: 72it [00:04, 15.24it/s]\n",
      "[2024-01-17 18:00:53,383] INFO(__main__)\tevaluation\n",
      "[2024-01-17 18:00:53,387] INFO(__main__)\ttraining\n"
     ]
    },
    {
     "name": "stdout",
     "output_type": "stream",
     "text": [
      "Epoch = 38\n"
     ]
    },
    {
     "name": "stderr",
     "output_type": "stream",
     "text": [
      "Train: 72it [00:04, 16.69it/s]\n",
      "[2024-01-17 18:00:57,712] INFO(__main__)\tevaluation\n",
      "[2024-01-17 18:00:57,716] INFO(__main__)\ttraining\n"
     ]
    },
    {
     "name": "stdout",
     "output_type": "stream",
     "text": [
      "Epoch = 39\n"
     ]
    },
    {
     "name": "stderr",
     "output_type": "stream",
     "text": [
      "Train: 72it [00:04, 15.27it/s]\n",
      "[2024-01-17 18:01:02,440] INFO(__main__)\tevaluation\n",
      "[2024-01-17 18:01:02,444] INFO(__main__)\ttraining\n"
     ]
    },
    {
     "name": "stdout",
     "output_type": "stream",
     "text": [
      "Epoch = 40\n"
     ]
    },
    {
     "name": "stderr",
     "output_type": "stream",
     "text": [
      "Train: 72it [00:04, 16.84it/s]\n",
      "[2024-01-17 18:01:06,732] INFO(__main__)\tevaluation\n",
      "Eval: 18it [00:01, 17.18it/s]\n",
      "[2024-01-17 18:01:07,794] INFO(__main__)\tgenerating from dataset\n",
      "[2024-01-17 18:01:08,227] INFO(__main__)\tgenerating random from latent space\n",
      "[2024-01-17 18:01:08,840] INFO(__main__)\texploring latent space\n",
      "[2024-01-17 18:01:14,313] INFO(__main__)\ttraining\n"
     ]
    },
    {
     "name": "stdout",
     "output_type": "stream",
     "text": [
      "Epoch = 41\n"
     ]
    },
    {
     "name": "stderr",
     "output_type": "stream",
     "text": [
      "Train: 72it [00:05, 13.00it/s]\n",
      "[2024-01-17 18:01:19,911] INFO(__main__)\tevaluation\n",
      "[2024-01-17 18:01:19,916] INFO(__main__)\ttraining\n"
     ]
    },
    {
     "name": "stdout",
     "output_type": "stream",
     "text": [
      "Epoch = 42\n"
     ]
    },
    {
     "name": "stderr",
     "output_type": "stream",
     "text": [
      "Train: 72it [00:04, 15.57it/s]\n",
      "[2024-01-17 18:01:24,553] INFO(__main__)\tevaluation\n",
      "[2024-01-17 18:01:24,557] INFO(__main__)\ttraining\n"
     ]
    },
    {
     "name": "stdout",
     "output_type": "stream",
     "text": [
      "Epoch = 43\n"
     ]
    },
    {
     "name": "stderr",
     "output_type": "stream",
     "text": [
      "Train: 72it [00:04, 15.31it/s]\n",
      "[2024-01-17 18:01:29,272] INFO(__main__)\tevaluation\n",
      "[2024-01-17 18:01:29,276] INFO(__main__)\ttraining\n"
     ]
    },
    {
     "name": "stdout",
     "output_type": "stream",
     "text": [
      "Epoch = 44\n"
     ]
    },
    {
     "name": "stderr",
     "output_type": "stream",
     "text": [
      "Train: 72it [00:04, 15.64it/s]\n",
      "[2024-01-17 18:01:33,893] INFO(__main__)\tevaluation\n",
      "[2024-01-17 18:01:33,901] INFO(__main__)\ttraining\n"
     ]
    },
    {
     "name": "stdout",
     "output_type": "stream",
     "text": [
      "Epoch = 45\n"
     ]
    },
    {
     "name": "stderr",
     "output_type": "stream",
     "text": [
      "Train: 72it [00:04, 16.19it/s]\n",
      "[2024-01-17 18:01:38,360] INFO(__main__)\tevaluation\n",
      "[2024-01-17 18:01:38,364] INFO(__main__)\ttraining\n"
     ]
    },
    {
     "name": "stdout",
     "output_type": "stream",
     "text": [
      "Epoch = 46\n"
     ]
    },
    {
     "name": "stderr",
     "output_type": "stream",
     "text": [
      "Train: 72it [00:06, 10.95it/s]\n",
      "[2024-01-17 18:01:44,963] INFO(__main__)\tevaluation\n",
      "[2024-01-17 18:01:44,972] INFO(__main__)\ttraining\n"
     ]
    },
    {
     "name": "stdout",
     "output_type": "stream",
     "text": [
      "Epoch = 47\n"
     ]
    },
    {
     "name": "stderr",
     "output_type": "stream",
     "text": [
      "Train: 72it [00:05, 12.77it/s]\n",
      "[2024-01-17 18:01:50,628] INFO(__main__)\tevaluation\n",
      "[2024-01-17 18:01:50,637] INFO(__main__)\ttraining\n"
     ]
    },
    {
     "name": "stdout",
     "output_type": "stream",
     "text": [
      "Epoch = 48\n"
     ]
    },
    {
     "name": "stderr",
     "output_type": "stream",
     "text": [
      "Train: 72it [00:04, 14.58it/s]\n",
      "[2024-01-17 18:01:55,582] INFO(__main__)\tevaluation\n",
      "[2024-01-17 18:01:55,588] INFO(__main__)\ttraining\n"
     ]
    },
    {
     "name": "stdout",
     "output_type": "stream",
     "text": [
      "Epoch = 49\n"
     ]
    },
    {
     "name": "stderr",
     "output_type": "stream",
     "text": [
      "Train: 72it [00:05, 13.38it/s]\n",
      "[2024-01-17 18:02:00,982] INFO(__main__)\tevaluation\n",
      "Eval: 18it [00:01, 13.81it/s]\n",
      "[2024-01-17 18:02:02,317] INFO(__main__)\tgenerating from dataset\n",
      "[2024-01-17 18:02:02,686] INFO(__main__)\tgenerating random from latent space\n",
      "[2024-01-17 18:02:03,252] INFO(__main__)\texploring latent space\n",
      "[2024-01-17 18:02:08,239] INFO(__main__)\ttraining\n"
     ]
    },
    {
     "name": "stdout",
     "output_type": "stream",
     "text": [
      "Epoch = 50\n"
     ]
    },
    {
     "name": "stderr",
     "output_type": "stream",
     "text": [
      "Train: 72it [00:04, 17.70it/s]\n",
      "[2024-01-17 18:02:12,354] INFO(__main__)\tevaluation\n",
      "Eval: 18it [00:01, 14.97it/s]\n",
      "[2024-01-17 18:02:13,579] INFO(__main__)\tgenerating from dataset\n",
      "[2024-01-17 18:02:13,979] INFO(__main__)\tgenerating random from latent space\n",
      "[2024-01-17 18:02:14,518] INFO(__main__)\texploring latent space\n"
     ]
    }
   ],
   "source": [
    "WRITER = SummaryWriter(comment=filename)\n",
    "\n",
    "# add refs to tensorboard\n",
    "with torch.no_grad():\n",
    "    waveform = next(iter(valid_loader)).to(device)\n",
    "    mag, phase = transform.forward(waveform[:n_sounds_generated_from_dataset])\n",
    "    mag = mag[:, :, : mag.shape[2] - 1]\n",
    "    mag = train_norm(mag)\n",
    "\n",
    "    grid = torchvision.utils.make_grid(mag.reshape(-1, 1, n_mels, n_frames), 1)\n",
    "    WRITER.add_image(\"ref/dataset/melspec\", grid)\n",
    "\n",
    "    WRITER.add_audio(\n",
    "        \"ref/dataset/original\",\n",
    "        waveform[:n_sounds_generated_from_dataset].reshape(-1),\n",
    "        0,\n",
    "        sample_rate=LoopDataset.FS,\n",
    "    )\n",
    "\n",
    "for epoch in range(1, n_epochs + 1):\n",
    "    print(\"Epoch = {}\".format(epoch))\n",
    "    # TRAINING\n",
    "    model.train()\n",
    "    logger.info(\"training\")\n",
    "\n",
    "    #beta = beta_warmup(epoch, beta_interval, beta_epoch_interval)\n",
    "    beta = 0\n",
    "\n",
    "    full_loss = 0\n",
    "    recons_loss = 0\n",
    "    kl_div = 0\n",
    "\n",
    "    for i, waveform in tqdm(enumerate(train_loader), desc=\"Train\"):\n",
    "        waveform = waveform.to(device)\n",
    "        mag, phase = transform.forward(waveform)\n",
    "        mag = mag[:, :, : mag.shape[2] - 1]\n",
    "        mag = train_norm(mag)\n",
    "\n",
    "        mag_tilde, kl_div_batch = model(mag)\n",
    "\n",
    "        recons_loss_batch = recons_criterion(mag_tilde, mag)\n",
    "        full_loss_batch = recons_loss_batch - beta * kl_div_batch\n",
    "\n",
    "        recons_loss += recons_loss_batch\n",
    "        full_loss += full_loss_batch\n",
    "        kl_div += kl_div_batch\n",
    "\n",
    "        optimizer.zero_grad()\n",
    "        full_loss_batch.backward()\n",
    "        optimizer.step()\n",
    "    WRITER.add_scalar(\"loss/train/full\", full_loss, epoch)\n",
    "    WRITER.add_scalar(\"loss/train/reconstruction\", recons_loss, epoch)\n",
    "    WRITER.add_scalar(\"loss/train/kl_div\", kl_div, epoch)\n",
    "\n",
    "    model.eval()\n",
    "    logger.info(\"evaluation\")\n",
    "\n",
    "    full_loss = 0\n",
    "    recons_loss = 0\n",
    "    kl_div = 0\n",
    "\n",
    "    ## EVALUATION\n",
    "    if epoch % evaluate_every_nth_epoch == 0 or epoch == n_epochs - 1:\n",
    "        for i, waveform in tqdm(enumerate(valid_loader), desc=\"Eval\"):\n",
    "            waveform = waveform.to(device)\n",
    "            mag, phase = transform.forward(waveform)\n",
    "            mag = mag[:, :, : mag.shape[2] - 1]\n",
    "            mag = valid_norm(mag)\n",
    "\n",
    "            mag_tilde, kl_div_batch = model(mag)\n",
    "\n",
    "            recons_loss_batch = recons_criterion(mag_tilde, mag)\n",
    "            full_loss_batch = recons_loss_batch - beta * kl_div_batch\n",
    "\n",
    "            recons_loss += recons_loss_batch\n",
    "            full_loss += full_loss_batch\n",
    "            kl_div += kl_div_batch\n",
    "\n",
    "            optimizer.zero_grad()\n",
    "            full_loss_batch.backward()\n",
    "            optimizer.step()\n",
    "        WRITER.add_scalar(\"loss/valid/full\", full_loss, epoch)\n",
    "        WRITER.add_scalar(\"loss/valid/reconstruction\", recons_loss, epoch)\n",
    "        WRITER.add_scalar(\"loss/valid/kl_div\", kl_div, epoch)\n",
    "\n",
    "    if epoch % generate_every_nth_epoch == 0 or epoch == n_epochs - 1:\n",
    "        logger.info(\"generating from dataset\")\n",
    "        with torch.no_grad():\n",
    "            waveform = next(iter(valid_loader)).to(device)\n",
    "            mag, phase = transform.forward(waveform[:n_sounds_generated_from_dataset])\n",
    "            mag = mag[:, :, : mag.shape[2] - 1]\n",
    "            mag = train_norm(mag)\n",
    "            phase = phase[:, :, : phase.shape[2] - 1]\n",
    "\n",
    "            mag_tilde, _ = model(mag)\n",
    "\n",
    "            waveform_tilde_copyphase = transform.backward(mag_tilde, phase)\n",
    "            waveform_tilde_griffinlim = transform.backward(mag_tilde)\n",
    "\n",
    "            grid = torchvision.utils.make_grid(mag_tilde.reshape(-1, 1, n_mels, n_frames), 1)\n",
    "            WRITER.add_image(\"gen/dataset/melspec\", grid, epoch)\n",
    "\n",
    "            waveform_tilde_copyphase /= torch.max(abs(waveform_tilde_copyphase))\n",
    "            waveform_tilde_griffinlim /= torch.max(abs(waveform_tilde_griffinlim))\n",
    "\n",
    "            WRITER.add_audio(\n",
    "                \"gen/dataset/copyphase\",\n",
    "                waveform_tilde_copyphase.reshape(-1),\n",
    "                epoch,\n",
    "                sample_rate=LoopDataset.FS,\n",
    "            )\n",
    "            WRITER.add_audio(\n",
    "                \"gen/dataset/griffinlim\",\n",
    "                waveform_tilde_griffinlim.reshape(-1),\n",
    "                epoch,\n",
    "                sample_rate=LoopDataset.FS,\n",
    "            )\n",
    "\n",
    "        logger.info(\"generating random from latent space\")\n",
    "        with torch.no_grad():\n",
    "            z = torch.randn(n_sounds_generated_from_random, n_latent).to(device)\n",
    "            mag_tilde = model.decode(z)\n",
    "\n",
    "            grid = torchvision.utils.make_grid(\n",
    "                mag_tilde.reshape(-1, 1, n_mels, n_frames), 1\n",
    "            )\n",
    "            WRITER.add_image(\"gen/rand_latent/melspec\", grid, epoch)\n",
    "\n",
    "            waveform_tilde = transform.backward(mag_tilde)\n",
    "            waveform_tilde /= torch.max(abs(waveform_tilde))\n",
    "\n",
    "            WRITER.add_audio(\n",
    "                \"gen/rand_latent/griffinlim\",\n",
    "                waveform_tilde_griffinlim.reshape(-1),\n",
    "                epoch,\n",
    "                sample_rate=LoopDataset.FS,\n",
    "            )\n",
    "        logger.info(\"exploring latent space\")\n",
    "        with torch.no_grad():\n",
    "            n_sounds_per_dimension = 5\n",
    "            z = torch.zeros(n_sounds_per_dimension * n_latent, n_latent).to(device)\n",
    "            for i in range(n_latent):\n",
    "                a = i * n_sounds_per_dimension\n",
    "                b = (i + 1) * n_sounds_per_dimension\n",
    "                z[a:b, i] = torch.linspace(-2, +2, n_sounds_per_dimension)\n",
    "            mag_tilde = model.decode(z)\n",
    "            grid = torchvision.utils.make_grid(\n",
    "                mag_tilde.reshape(-1, 1, n_mels, n_frames), n_sounds_per_dimension\n",
    "            )\n",
    "            WRITER.add_image(\"gen/explo_latent/melspec\", grid, epoch)\n",
    "            waveform_tilde = transform.backward(mag_tilde)\n",
    "            waveform_tilde /= torch.max(abs(waveform_tilde))\n",
    "\n",
    "            WRITER.add_audio(\n",
    "                \"gen/explo_latent/griffinlim\",\n",
    "                waveform_tilde_griffinlim.reshape(-1),\n",
    "                epoch,\n",
    "                sample_rate=LoopDataset.FS,\n",
    "            )"
   ]
  },
  {
   "cell_type": "code",
   "execution_count": null,
   "metadata": {},
   "outputs": [
    {
     "name": "stderr",
     "output_type": "stream",
     "text": [
      "[2024-01-17 09:17:28,354] INFO(__main__)\tsaved to audiovae_test0.pt\n"
     ]
    }
   ],
   "source": [
    "torch.save(model.state_dict(), filename)\n",
    "logger.info(\"saved to %s\", filename)"
   ]
  },
  {
   "cell_type": "code",
   "execution_count": 136,
   "metadata": {},
   "outputs": [],
   "source": [
    "c = 0\n",
    "\n",
    "if c == 0:\n",
    "    test = torch.zeros(1, 16).to(device)\n",
    "elif c == 1:\n",
    "    test = torch.ones(1, 16).to(device)\n",
    "elif c == 2:\n",
    "    test = (\n",
    "        torch.arange(0, 16, dtype=torch.get_default_dtype()).reshape(1, -1).to(device)\n",
    "    )\n",
    "elif c == 3:\n",
    "    test = -1 * torch.ones(1, 16).to(device)\n",
    "elif c == 4:\n",
    "    test = 5 * torch.randn((1, 16)).to(device)\n",
    "else:\n",
    "    test = torch.randn((1, 16)).to(device)"
   ]
  },
  {
   "cell_type": "code",
   "execution_count": 137,
   "metadata": {},
   "outputs": [
    {
     "data": {
      "text/plain": [
       "tensor([[0., 0., 0., 0., 0., 0., 0., 0., 0., 0., 0., 0., 0., 0., 0., 0.]],\n",
       "       device='cuda:0')"
      ]
     },
     "execution_count": 137,
     "metadata": {},
     "output_type": "execute_result"
    }
   ],
   "source": [
    "test"
   ]
  },
  {
   "cell_type": "code",
   "execution_count": 138,
   "metadata": {},
   "outputs": [],
   "source": [
    "test_output = model.decoder(test)"
   ]
  },
  {
   "cell_type": "code",
   "execution_count": 139,
   "metadata": {},
   "outputs": [
    {
     "data": {
      "text/plain": [
       "<matplotlib.image.AxesImage at 0x210dc1a7520>"
      ]
     },
     "execution_count": 139,
     "metadata": {},
     "output_type": "execute_result"
    },
    {
     "data": {
      "image/png": "[encoded data removed]",
      "text/plain": [
       "<Figure size 640x480 with 1 Axes>"
      ]
     },
     "metadata": {},
     "output_type": "display_data"
    }
   ],
   "source": [
    "plt.imshow(test_output[0].detach().cpu())"
   ]
  },
  {
   "cell_type": "code",
   "execution_count": 140,
   "metadata": {},
   "outputs": [],
   "source": [
    "test_wave = transform.backward(test_output)"
   ]
  },
  {
   "cell_type": "code",
   "execution_count": 141,
   "metadata": {},
   "outputs": [
    {
     "data": {
      "text/plain": [
       "torch.Size([1, 65472])"
      ]
     },
     "execution_count": 141,
     "metadata": {},
     "output_type": "execute_result"
    }
   ],
   "source": [
    "test_wave.shape"
   ]
  },
  {
   "cell_type": "code",
   "execution_count": 142,
   "metadata": {},
   "outputs": [
    {
     "data": {
      "text/html": [
       "\n",
       "                <audio  controls=\"controls\" >\n",
       "                    <source src=\"data:audio/wav;base64,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\" type=\"audio/wav\" />\n",
       "                    Your browser does not support the audio element.\n",
       "                </audio>\n",
       "              "
      ],
      "text/plain": [
       "<IPython.lib.display.Audio object>"
      ]
     },
     "execution_count": 142,
     "metadata": {},
     "output_type": "execute_result"
    }
   ],
   "source": [
    "ipd.Audio(test_wave.cpu().detach(), rate=LoopDataset.FS)"
   ]
  },
  {
   "cell_type": "code",
   "execution_count": 19,
   "metadata": {},
   "outputs": [
    {
     "name": "stderr",
     "output_type": "stream",
     "text": [
      "[2024-01-12 18:39:07,408] INFO(__main__)\ttraining audiovae_0_1_50.pt\n",
      "[2024-01-12 18:39:07,409] INFO(__main__)\tn_epochs=50\n"
     ]
    },
    {
     "name": "stdout",
     "output_type": "stream",
     "text": [
      "n_mels 128\n",
      "n_frames 1025\n",
      "n_in 131200\n"
     ]
    },
    {
     "name": "stderr",
     "output_type": "stream",
     "text": [
      "--- Logging error ---\n",
      "Traceback (most recent call last):\n",
      "  File \"c:\\Users\\MrGoo\\AppData\\Local\\Programs\\Python\\Python310\\lib\\logging\\__init__.py\", line 1100, in emit\n",
      "    msg = self.format(record)\n",
      "  File \"c:\\Users\\MrGoo\\AppData\\Local\\Programs\\Python\\Python310\\lib\\logging\\__init__.py\", line 943, in format\n",
      "    return fmt.format(record)\n",
      "  File \"c:\\Users\\MrGoo\\AppData\\Local\\Programs\\Python\\Python310\\lib\\logging\\__init__.py\", line 678, in format\n",
      "    record.message = record.getMessage()\n",
      "  File \"c:\\Users\\MrGoo\\AppData\\Local\\Programs\\Python\\Python310\\lib\\logging\\__init__.py\", line 368, in getMessage\n",
      "    msg = msg % self.args\n",
      "TypeError: not all arguments converted during string formatting\n",
      "Call stack:\n",
      "  File \"c:\\Users\\MrGoo\\AppData\\Local\\Programs\\Python\\Python310\\lib\\runpy.py\", line 196, in _run_module_as_main\n",
      "    return _run_code(code, main_globals, None,\n",
      "  File \"c:\\Users\\MrGoo\\AppData\\Local\\Programs\\Python\\Python310\\lib\\runpy.py\", line 86, in _run_code\n",
      "    exec(code, run_globals)\n",
      "  File \"C:\\Users\\MrGoo\\AppData\\Roaming\\Python\\Python310\\site-packages\\ipykernel_launcher.py\", line 17, in <module>\n",
      "    app.launch_new_instance()\n",
      "  File \"C:\\Users\\MrGoo\\AppData\\Roaming\\Python\\Python310\\site-packages\\traitlets\\config\\application.py\", line 1053, in launch_instance\n",
      "    app.start()\n",
      "  File \"C:\\Users\\MrGoo\\AppData\\Roaming\\Python\\Python310\\site-packages\\ipykernel\\kernelapp.py\", line 737, in start\n",
      "    self.io_loop.start()\n",
      "  File \"C:\\Users\\MrGoo\\AppData\\Roaming\\Python\\Python310\\site-packages\\tornado\\platform\\asyncio.py\", line 195, in start\n",
      "    self.asyncio_loop.run_forever()\n",
      "  File \"c:\\Users\\MrGoo\\AppData\\Local\\Programs\\Python\\Python310\\lib\\asyncio\\base_events.py\", line 603, in run_forever\n",
      "    self._run_once()\n",
      "  File \"c:\\Users\\MrGoo\\AppData\\Local\\Programs\\Python\\Python310\\lib\\asyncio\\base_events.py\", line 1909, in _run_once\n",
      "    handle._run()\n",
      "  File \"c:\\Users\\MrGoo\\AppData\\Local\\Programs\\Python\\Python310\\lib\\asyncio\\events.py\", line 80, in _run\n",
      "    self._context.run(self._callback, *self._args)\n",
      "  File \"C:\\Users\\MrGoo\\AppData\\Roaming\\Python\\Python310\\site-packages\\ipykernel\\kernelbase.py\", line 524, in dispatch_queue\n",
      "    await self.process_one()\n",
      "  File \"C:\\Users\\MrGoo\\AppData\\Roaming\\Python\\Python310\\site-packages\\ipykernel\\kernelbase.py\", line 513, in process_one\n",
      "    await dispatch(*args)\n",
      "  File \"C:\\Users\\MrGoo\\AppData\\Roaming\\Python\\Python310\\site-packages\\ipykernel\\kernelbase.py\", line 418, in dispatch_shell\n",
      "    await result\n",
      "  File \"C:\\Users\\MrGoo\\AppData\\Roaming\\Python\\Python310\\site-packages\\ipykernel\\kernelbase.py\", line 758, in execute_request\n",
      "    reply_content = await reply_content\n",
      "  File \"C:\\Users\\MrGoo\\AppData\\Roaming\\Python\\Python310\\site-packages\\ipykernel\\ipkernel.py\", line 426, in do_execute\n",
      "    res = shell.run_cell(\n",
      "  File \"C:\\Users\\MrGoo\\AppData\\Roaming\\Python\\Python310\\site-packages\\ipykernel\\zmqshell.py\", line 549, in run_cell\n",
      "    return super().run_cell(*args, **kwargs)\n",
      "  File \"C:\\Users\\MrGoo\\AppData\\Roaming\\Python\\Python310\\site-packages\\IPython\\core\\interactiveshell.py\", line 3046, in run_cell\n",
      "    result = self._run_cell(\n",
      "  File \"C:\\Users\\MrGoo\\AppData\\Roaming\\Python\\Python310\\site-packages\\IPython\\core\\interactiveshell.py\", line 3101, in _run_cell\n",
      "    result = runner(coro)\n",
      "  File \"C:\\Users\\MrGoo\\AppData\\Roaming\\Python\\Python310\\site-packages\\IPython\\core\\async_helpers.py\", line 129, in _pseudo_sync_runner\n",
      "    coro.send(None)\n",
      "  File \"C:\\Users\\MrGoo\\AppData\\Roaming\\Python\\Python310\\site-packages\\IPython\\core\\interactiveshell.py\", line 3306, in run_cell_async\n",
      "    has_raised = await self.run_ast_nodes(code_ast.body, cell_name,\n",
      "  File \"C:\\Users\\MrGoo\\AppData\\Roaming\\Python\\Python310\\site-packages\\IPython\\core\\interactiveshell.py\", line 3488, in run_ast_nodes\n",
      "    if await self.run_code(code, result, async_=asy):\n",
      "  File \"C:\\Users\\MrGoo\\AppData\\Roaming\\Python\\Python310\\site-packages\\IPython\\core\\interactiveshell.py\", line 3548, in run_code\n",
      "    exec(code_obj, self.user_global_ns, self.user_ns)\n",
      "  File \"C:\\Users\\MrGoo\\AppData\\Local\\Temp\\ipykernel_88628\\3943430985.py\", line 35, in <module>\n",
      "    logger.info(\"loaded from\", filename)\n",
      "Message: 'loaded from'\n",
      "Arguments: ('audiovae_0_1_50.pt',)\n"
     ]
    }
   ],
   "source": [
    "# # training loop\n",
    "\n",
    "# # parameters\n",
    "# n_epochs = 50\n",
    "# beta_interval = (0, 1)  # min, max\n",
    "# beta_epoch_interval = (10, 40)  # start, end\n",
    "# evaluate_every_nth_epoch = 3\n",
    "# generate_every_nth_epoch = 3\n",
    "# n_latent = 16\n",
    "# n_mels = 128\n",
    "# transform = CustomTransform(\n",
    "#     sample_rate=LoopDataset.FS,\n",
    "#     n_mels=n_mels,\n",
    "#     n_fft=1024,\n",
    "#     griffin_lim_iter=64,\n",
    "#     hop_length=64\n",
    "# ).to(device)\n",
    "# n_frames = transform.get_n_frames(LoopDataset.SIZE_SAMPLES)\n",
    "# n_in = n_mels * n_frames\n",
    "\n",
    "# print(\"n_mels\", n_mels)\n",
    "# print(\"n_frames\", n_frames)\n",
    "# print(\"n_in\", n_in)\n",
    "\n",
    "# filename = f\"audiovae_{beta_interval[0]}_{beta_interval[1]}_{n_epochs}.pt\"\n",
    "# logger.info(\"training %s\", filename)\n",
    "# logger.info(\"n_epochs=%d\", n_epochs)\n",
    "\n",
    "# model = VAE(encoder, decoder, n_hidden, n_latent).to(device)\n",
    "# optimizer = torch.optim.Adam(model.parameters(), lr=1e-3)\n",
    "# recons_criterion = torch.nn.MSELoss(reduction=\"sum\")\n",
    "\n",
    "# if Path(filename).exists():\n",
    "#     model.load_state_dict(torch.load(filename))\n",
    "#     logger.info(\"loaded from\", filename)\n",
    "\n",
    "# else:\n",
    "#     WRITER = SummaryWriter(comment=filename)\n",
    "\n",
    "#     for epoch in range(n_epochs):\n",
    "#         #beta = beta_warmup(epoch, beta_interval, beta_epoch_interval)\n",
    "#         beta = 1\n",
    "#         logger.info(\n",
    "#             f\"epoch {epoch+1}/{n_epochs}; beta={beta:.2f}; {epoch * len(train_dataset)} examples seen\"\n",
    "#         )\n",
    "#         WRITER.add_scalar(\"beta\", beta, epoch)\n",
    "\n",
    "#         logger.info(\"training\")\n",
    "#         model.train()\n",
    "#         full_loss = 0\n",
    "#         recons_loss = 0\n",
    "#         kl_div = 0\n",
    "#         for i, waveform in tqdm(enumerate(train_loader), desc=\"Train\"):\n",
    "#             optimizer.zero_grad()\n",
    "#             waveform = waveform.to(device)\n",
    "#             mag, phase = transform.forward(waveform)\n",
    "#             mag = mag[:,:,:mag.shape[2]-1]\n",
    "#             mag_tilde, kl_div_batch = model(mag)\n",
    "#             recons_loss_batch = recons_criterion(mag_tilde, mag)\n",
    "#             full_loss_batch = recons_loss_batch - beta * kl_div_batch\n",
    "#             recons_loss += recons_loss_batch\n",
    "#             full_loss += full_loss_batch\n",
    "#             kl_div += kl_div_batch\n",
    "#             full_loss_batch.backward()\n",
    "#             optimizer.step()\n",
    "#         WRITER.add_scalar(\"loss/train/full\", full_loss, epoch)\n",
    "#         WRITER.add_scalar(\"loss/train/reconstruction\", recons_loss, epoch)\n",
    "#         WRITER.add_scalar(\"loss/train/kl_div\", kl_div, epoch)\n",
    "\n",
    "#         if epoch % evaluate_every_nth_epoch == 0 or epoch == n_epochs - 1:\n",
    "#             logger.info(\"evaluating\")\n",
    "#             model.eval()\n",
    "#             full_loss = 0\n",
    "#             recons_loss = 0\n",
    "#             kl_div = 0\n",
    "#             for i, waveform in tqdm(enumerate(valid_loader), desc=\"Evaluation\"):\n",
    "#                 optimizer.zero_grad()\n",
    "#                 waveform = waveform.to(device)\n",
    "#                 mag, phase = transform.forward(waveform)\n",
    "#                 mag = mag[:,:,:mag.shape[2]-1]\n",
    "#                 mag_tilde, kl_div_batch = model(mag)\n",
    "#                 recons_loss_batch = recons_criterion(mag_tilde, mag)\n",
    "#                 full_loss_batch = recons_loss_batch - beta * kl_div_batch\n",
    "#                 recons_loss += recons_loss_batch\n",
    "#                 full_loss += full_loss_batch\n",
    "#                 kl_div += kl_div_batch\n",
    "#                 full_loss_batch.backward()\n",
    "#                 optimizer.step()\n",
    "#             WRITER.add_scalar(\"loss/eval/full\", full_loss, epoch)\n",
    "#             WRITER.add_scalar(\"loss/eval/reconstruction\", recons_loss, epoch)\n",
    "#             WRITER.add_scalar(\"loss/eval/kl_div\", kl_div, epoch)\n",
    "\n",
    "#         # if epoch % generate_every_nth_epoch == 0 or epoch == n_epochs - 1:\n",
    "#         #     logger.info(\"generating from dataset\")\n",
    "#         #     with torch.no_grad():\n",
    "#         #         n_sounds = 4\n",
    "#         #         waveform = next(iter(valid_loader)).to(device)\n",
    "#         #         mag, phase = transform.forward(waveform[:n_sounds])\n",
    "#         #         print(f\"{mag.shape=}\")\n",
    "#         #         print(f\"{phase.shape=}\")\n",
    "#         #         mag = mag[:,:,:mag.shape[2]-1]\n",
    "#         #         phase = phase[:,:,:phase.shape[2]-1]\n",
    "#         #         print(f\"{mag_tilde.shape=}\")\n",
    "#         #         print(f\"{phase.shape=}\")\n",
    "#         #         mag_tilde, _ = model(mag)\n",
    "#         #         mag_tilde = mag_tilde.reshape(-1, 1, n_mels, n_frames-1)\n",
    "#         #         phase = phase.reshape(-1, 1, n_mels, n_frames-1)\n",
    "#         #         print(f\"{mag_tilde.shape=}\")\n",
    "#         #         print(f\"{phase.shape=}\")\n",
    "#         #         grid = torchvision.utils.make_grid(mag_tilde, n_sounds)\n",
    "#         #         WRITER.add_image(\"gen/dataset/melspec\", grid)\n",
    "\n",
    "#         #         waveform_tilde_copyphase = transform.backward(mag_tilde, phase)\n",
    "#         #         waveform_tilde_griffinlim = transform.backward(mag_tilde)\n",
    "#         #         WRITER.add_audio(\n",
    "#         #             \"gen/dataset/copyphase\",\n",
    "#         #             waveform_tilde_copyphase.reshape(-1),\n",
    "#         #             epoch,\n",
    "#         #             sample_rate=LoopDataset.FS,\n",
    "#         #         )\n",
    "#         #         WRITER.add_audio(\n",
    "#         #             \"gen/dataset/griffinlim\",\n",
    "#         #             waveform_tilde_griffinlim.reshape(-1),\n",
    "#         #             epoch,\n",
    "#         #             sample_rate=LoopDataset.FS,\n",
    "#         #         )\n",
    "\n",
    "#         #     logger.info(\"generating random from latent space\")\n",
    "#         #     with torch.no_grad():\n",
    "#         #         n_sounds = 16\n",
    "#         #         z = torch.randn(n_sounds, n_latent).to(device)\n",
    "#         #         mag_tilde = model.decode(z).reshape(-1, 1, n_mels, n_frames-1)\n",
    "#         #         grid = torchvision.utils.make_grid(mag_tilde, n_sounds)\n",
    "#         #         WRITER.add_image(\"gen/rand_latent/melspec\", grid)\n",
    "#         #         waveform_tilde = transform.backward(mag_tilde)\n",
    "#         #         WRITER.add_audio(\n",
    "#         #             \"gen/rand_latent/griffinlim\",\n",
    "#         #             waveform_tilde_griffinlim.reshape(-1),\n",
    "#         #             epoch,\n",
    "#         #             sample_rate=LoopDataset.FS,\n",
    "#         #         )\n",
    "#         #     logger.info(\"exploring latent space\")\n",
    "#         #     # with torch.no_grad():\n",
    "#             #     n_sounds_per_dimension = 8\n",
    "#             #     z = torch.zeros(n_sounds_per_dimension * n_latent, n_latent).to(device)\n",
    "#             #     for i in range(n_latent):\n",
    "#             #         a = i * n_sounds_per_dimension\n",
    "#             #         b = (i + 1) * n_sounds_per_dimension\n",
    "#             #         z[a:b, i] = torch.linspace(-5, +5, n_sounds_per_dimension)\n",
    "#             #     mag_tilde = model.decode(z).reshape(-1, 1, n_mels, n_frames)\n",
    "#             #     grid = torchvision.utils.make_grid(mag_tilde, n_sounds_per_dimension)\n",
    "#             #     WRITER.add_image(\"gen/explo_latent/melspec\", grid)\n",
    "#             #     waveform_tilde = transform.backward(mag_tilde)\n",
    "#             #     WRITER.add_audio(\n",
    "#             #         \"gen/explo_latent/griffinlim\",\n",
    "#             #         waveform_tilde_griffinlim.reshape(-1),\n",
    "#             #         epoch,\n",
    "#             #         sample_rate=LoopDataset.FS,\n",
    "#             #    )\n",
    "\n",
    "#     # save weights\n",
    "#     torch.save(model.state_dict(), filename)\n",
    "#     logger.info(\"saved to %s\", filename)"
   ]
  },
  {
   "cell_type": "code",
   "execution_count": null,
   "metadata": {},
   "outputs": [],
   "source": []
  }
 ],
 "metadata": {
  "kernelspec": {
   "display_name": "Python 3",
   "language": "python",
   "name": "python3"
  },
  "language_info": {
   "codemirror_mode": {
    "name": "ipython",
    "version": 3
   },
   "file_extension": ".py",
   "mimetype": "text/x-python",
   "name": "python",
   "nbconvert_exporter": "python",
   "pygments_lexer": "ipython3",
   "version": "3.11.6"
  }
 },
 "nbformat": 4,
 "nbformat_minor": 2
}
